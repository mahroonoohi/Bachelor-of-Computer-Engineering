{
 "cells": [
  {
   "cell_type": "code",
   "execution_count": 1,
   "metadata": {},
   "outputs": [],
   "source": [
    "import pandas as pd\n",
    "from opensearchpy import OpenSearch\n",
    "import streamlit as st"
   ]
  },
  {
   "cell_type": "code",
   "execution_count": 2,
   "metadata": {},
   "outputs": [],
   "source": [
    "df = pd.read_csv('imdb_top_1000.csv')"
   ]
  },
  {
   "cell_type": "code",
   "execution_count": 3,
   "metadata": {},
   "outputs": [
    {
     "name": "stderr",
     "output_type": "stream",
     "text": [
      "c:\\Users\\mahroonoohi\\AppData\\Local\\Programs\\Python\\Python312\\Lib\\site-packages\\sentence_transformers\\cross_encoder\\CrossEncoder.py:11: TqdmExperimentalWarning: Using `tqdm.autonotebook.tqdm` in notebook mode. Use `tqdm.tqdm` instead to force console mode (e.g. in jupyter console)\n",
      "  from tqdm.autonotebook import tqdm, trange\n",
      "c:\\Users\\mahroonoohi\\AppData\\Local\\Programs\\Python\\Python312\\Lib\\site-packages\\huggingface_hub\\file_download.py:1132: FutureWarning: `resume_download` is deprecated and will be removed in version 1.0.0. Downloads always resume when possible. If you want to force a new download, use `force_download=True`.\n",
      "  warnings.warn(\n"
     ]
    }
   ],
   "source": [
    "from sentence_transformers import SentenceTransformer\n",
    "model = SentenceTransformer('intfloat/multilingual-e5-large')"
   ]
  },
  {
   "cell_type": "code",
   "execution_count": 4,
   "metadata": {},
   "outputs": [],
   "source": [
    "df[\"Vector\"] = df[\"Series_Title\"].apply(lambda x: model.encode(x))"
   ]
  },
  {
   "cell_type": "code",
   "execution_count": 86,
   "metadata": {},
   "outputs": [],
   "source": [
    "client = OpenSearch(\n",
    "    hosts=[{'host': 'localhost', 'port': 9200}],\n",
    "    http_auth=('admin', 'admin') \n",
    ")\n",
    "\n",
    "index_name = 'imdb_movie'\n",
    "\n",
    "def create_index_with_knn_vector(client, index_name):\n",
    "    if client.indices.exists(index=index_name):\n",
    "        client.indices.delete(index=index_name)\n",
    "\n",
    "    index_body = {\n",
    "        \"settings\": {\n",
    "            \"index.knn\": True \n",
    "        },\n",
    "        \"mappings\": {\n",
    "            \"properties\": {\n",
    "                \"vector\": {\n",
    "                    \"type\": \"knn_vector\",\n",
    "                    \"dimension\": 1024  \n",
    "                },\n",
    "                \"Series_Title\": {\n",
    "                    \"type\": \"text\"\n",
    "                },\n",
    "                \"Released_Year\": {\n",
    "                    \"type\": \"text\"\n",
    "                },\n",
    "                \"Runtime\": {\n",
    "                    \"type\": \"keyword\"\n",
    "                },\n",
    "                \"Genre\": {\n",
    "                    \"type\": \"text\"\n",
    "                },\n",
    "                \"IMDB_Rating\": {\n",
    "                    \"type\": \"float\"\n",
    "                },\n",
    "                \"Overview\": {\n",
    "                    \"type\": \"text\"\n",
    "                },\n",
    "                \"Director\": {\n",
    "                    \"type\": \"text\"\n",
    "                },\n",
    "                \"Star1\": {\n",
    "                    \"type\": \"text\"\n",
    "                },\n",
    "                \"Star2\": {\n",
    "                    \"type\": \"text\"\n",
    "                },\n",
    "                \"Star3\": {\n",
    "                    \"type\": \"text\"\n",
    "                },\n",
    "                \"Star4\": {\n",
    "                    \"type\": \"text\"\n",
    "                },\n",
    "                \"No_of_Votes\": {\n",
    "                    \"type\": \"integer\"\n",
    "                }\n",
    "            }\n",
    "        }\n",
    "    }\n",
    "    response = client.indices.create(index=index_name, body=index_body)\n",
    "\n",
    "create_index_with_knn_vector(client, index_name)\n"
   ]
  },
  {
   "cell_type": "code",
   "execution_count": 87,
   "metadata": {},
   "outputs": [],
   "source": [
    "def index_documents():\n",
    "    for idx, row in df.iterrows():\n",
    "        document = {\n",
    "            'Series_Title': row['Series_Title'],\n",
    "            'vector': row['Vector'],\n",
    "            'Released_Year': row['Released_Year'],\n",
    "            'Runtime': row['Runtime'],\n",
    "            'Genre': row['Genre'],\n",
    "            'IMDB_Rating': row['IMDB_Rating'],\n",
    "            'Overview': row['Overview'],\n",
    "            'Director': row['Director'],\n",
    "            'Star1': row['Star1'],\n",
    "            'Star2': row['Star2'],\n",
    "            'Star3': row['Star3'],\n",
    "            'Star4': row['Star4'],\n",
    "            'No_of_Votes': row['No_of_Votes']\n",
    "        }\n",
    "        response = client.index(index=index_name, body=document)  \n",
    "index_documents()"
   ]
  },
  {
   "cell_type": "code",
   "execution_count": 85,
   "metadata": {},
   "outputs": [],
   "source": [
    "def search_movies():\n",
    "    query_vector = list(model.encode(\"good\"))   \n",
    "    query = {\n",
    "            \"size\": 5, \n",
    "            \"query\": {\n",
    "                    \"script_score\": {\n",
    "                        \"query\": {\"match_all\": {}},\n",
    "                        \"script\": {\n",
    "                            \"source\": \"knn_score\",\n",
    "                            \"lang\": \"knn\",\n",
    "                            \"params\": {\n",
    "                                \"field\": \"vector\",\n",
    "                                \"query_value\": query_vector,\n",
    "                                \"space_type\": \"cosinesimil\"\n",
    "                            }\n",
    "                        }\n",
    "                    }\n",
    "                }\n",
    "            }\n",
    "    response = client.search(index=index_name, body=query)\n",
    "    return response\n",
    "\n",
    "\n",
    "\n",
    "def main():\n",
    "    st.title('IMDb Movie Search')\n",
    "    query = st.text_input('Enter your search query:', 'Movie')\n",
    "\n",
    "    if st.button('Search'):\n",
    "        results = search_movies(query)\n",
    "        st.subheader('Search Results:')\n",
    "        for result in results:\n",
    "            st.write(f\"ID: {result['_id']}\")\n",
    "            st.write(f\"Title: {result['_source']['Series_Title']}\")\n",
    "            st.write(f\"Overview: {result['_source']['Overview']}\")\n",
    "            st.write(f\"IMDB Rating: {result['_source']['IMDB_Rating']}\")\n",
    "            st.write(f\"Director: {result['_source']['Director']}\")\n",
    "            st.write(\"---\")\n",
    "\n",
    "if __name__ == '__main__':\n",
    "    main()"
   ]
  }
 ],
 "metadata": {
  "kernelspec": {
   "display_name": "Python 3",
   "language": "python",
   "name": "python3"
  },
  "language_info": {
   "codemirror_mode": {
    "name": "ipython",
    "version": 3
   },
   "file_extension": ".py",
   "mimetype": "text/x-python",
   "name": "python",
   "nbconvert_exporter": "python",
   "pygments_lexer": "ipython3",
   "version": "3.12.0"
  }
 },
 "nbformat": 4,
 "nbformat_minor": 2
}
